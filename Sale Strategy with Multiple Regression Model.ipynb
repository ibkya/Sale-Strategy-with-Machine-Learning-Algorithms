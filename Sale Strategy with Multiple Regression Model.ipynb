{
 "cells": [
  {
   "cell_type": "markdown",
   "id": "ee7fe713-525d-4b04-81fb-cbc6e8b68dac",
   "metadata": {
    "slideshow": {
     "slide_tpe": "slide"
    },
    "tags": []
   },
   "source": [
    "## Çoklu Doğrusal Regresyon"
   ]
  },
  {
   "cell_type": "code",
   "execution_count": 5,
   "id": "75202d2c-1ffd-4a21-af5a-85701e367bc0",
   "metadata": {},
   "outputs": [
    {
     "data": {
      "text/html": [
       "<div>\n",
       "<style scoped>\n",
       "    .dataframe tbody tr th:only-of-type {\n",
       "        vertical-align: middle;\n",
       "    }\n",
       "\n",
       "    .dataframe tbody tr th {\n",
       "        vertical-align: top;\n",
       "    }\n",
       "\n",
       "    .dataframe thead th {\n",
       "        text-align: right;\n",
       "    }\n",
       "</style>\n",
       "<table border=\"1\" class=\"dataframe\">\n",
       "  <thead>\n",
       "    <tr style=\"text-align: right;\">\n",
       "      <th></th>\n",
       "      <th>TV</th>\n",
       "      <th>radio</th>\n",
       "      <th>newspaper</th>\n",
       "      <th>sales</th>\n",
       "    </tr>\n",
       "  </thead>\n",
       "  <tbody>\n",
       "    <tr>\n",
       "      <th>0</th>\n",
       "      <td>230.1</td>\n",
       "      <td>37.8</td>\n",
       "      <td>69.2</td>\n",
       "      <td>22.1</td>\n",
       "    </tr>\n",
       "    <tr>\n",
       "      <th>1</th>\n",
       "      <td>44.5</td>\n",
       "      <td>39.3</td>\n",
       "      <td>45.1</td>\n",
       "      <td>10.4</td>\n",
       "    </tr>\n",
       "    <tr>\n",
       "      <th>2</th>\n",
       "      <td>17.2</td>\n",
       "      <td>45.9</td>\n",
       "      <td>69.3</td>\n",
       "      <td>9.3</td>\n",
       "    </tr>\n",
       "    <tr>\n",
       "      <th>3</th>\n",
       "      <td>151.5</td>\n",
       "      <td>41.3</td>\n",
       "      <td>58.5</td>\n",
       "      <td>18.5</td>\n",
       "    </tr>\n",
       "    <tr>\n",
       "      <th>4</th>\n",
       "      <td>180.8</td>\n",
       "      <td>10.8</td>\n",
       "      <td>58.4</td>\n",
       "      <td>12.9</td>\n",
       "    </tr>\n",
       "  </tbody>\n",
       "</table>\n",
       "</div>"
      ],
      "text/plain": [
       "      TV  radio  newspaper  sales\n",
       "0  230.1   37.8       69.2   22.1\n",
       "1   44.5   39.3       45.1   10.4\n",
       "2   17.2   45.9       69.3    9.3\n",
       "3  151.5   41.3       58.5   18.5\n",
       "4  180.8   10.8       58.4   12.9"
      ]
     },
     "execution_count": 5,
     "metadata": {},
     "output_type": "execute_result"
    }
   ],
   "source": [
    "import pandas as pd\n",
    "ad = pd.read_csv('Advertising.csv' , usecols = [1,2,3,4])\n",
    "df = ad.copy()\n",
    "df.head()"
   ]
  },
  {
   "cell_type": "code",
   "execution_count": 9,
   "id": "2e7c86d5-6635-4694-a338-5794ac0becde",
   "metadata": {},
   "outputs": [],
   "source": [
    "from sklearn.model_selection import train_test_split, cross_val_score, cross_val_predict"
   ]
  },
  {
   "cell_type": "code",
   "execution_count": 11,
   "id": "f08510aa-ad6f-40e4-8ba7-06d12a8a47ff",
   "metadata": {},
   "outputs": [],
   "source": [
    "X = df.drop(\"sales\" , axis = 1)\n",
    "y = df[\"sales\"]\n",
    "\n",
    "X_train, X_test , y_train, y_test = train_test_split(X, y, test_size = 0.20, random_state = 42)\n"
   ]
  },
  {
   "cell_type": "code",
   "execution_count": 12,
   "id": "8c9e1eb2-9943-4092-8383-756c7076432e",
   "metadata": {},
   "outputs": [
    {
     "data": {
      "text/plain": [
       "(160, 3)"
      ]
     },
     "execution_count": 12,
     "metadata": {},
     "output_type": "execute_result"
    }
   ],
   "source": [
    "X_train.shape"
   ]
  },
  {
   "cell_type": "code",
   "execution_count": 13,
   "id": "b4a1dffb-fb20-4e4d-b167-e9c154090905",
   "metadata": {},
   "outputs": [
    {
     "data": {
      "text/plain": [
       "(160,)"
      ]
     },
     "execution_count": 13,
     "metadata": {},
     "output_type": "execute_result"
    }
   ],
   "source": [
    "y_train.shape"
   ]
  },
  {
   "cell_type": "code",
   "execution_count": 14,
   "id": "b3eb2f4c-c235-479d-a933-567eee62fd75",
   "metadata": {},
   "outputs": [
    {
     "data": {
      "text/plain": [
       "(40, 3)"
      ]
     },
     "execution_count": 14,
     "metadata": {},
     "output_type": "execute_result"
    }
   ],
   "source": [
    "X_test.shape"
   ]
  },
  {
   "cell_type": "code",
   "execution_count": 15,
   "id": "bd877e3c-2622-4cc7-b522-f712fd7043c0",
   "metadata": {},
   "outputs": [
    {
     "data": {
      "text/plain": [
       "(40,)"
      ]
     },
     "execution_count": 15,
     "metadata": {},
     "output_type": "execute_result"
    }
   ],
   "source": [
    "y_test.shape"
   ]
  },
  {
   "cell_type": "code",
   "execution_count": 16,
   "id": "28743808-ea6a-48ae-bb20-cf541725429a",
   "metadata": {},
   "outputs": [],
   "source": [
    "training = df.copy()"
   ]
  },
  {
   "cell_type": "code",
   "execution_count": 17,
   "id": "d40370e8-67ed-4b82-a374-1904b14471db",
   "metadata": {},
   "outputs": [
    {
     "data": {
      "text/plain": [
       "(200, 4)"
      ]
     },
     "execution_count": 17,
     "metadata": {},
     "output_type": "execute_result"
    }
   ],
   "source": [
    "training.shape"
   ]
  },
  {
   "cell_type": "markdown",
   "id": "2f9cee7c-0ed1-431a-a128-c9a5ba36f4da",
   "metadata": {},
   "source": [
    "### Statsmodels"
   ]
  },
  {
   "cell_type": "code",
   "execution_count": 20,
   "id": "4d1b5455-4517-4381-80be-13499482663d",
   "metadata": {},
   "outputs": [],
   "source": [
    "import statsmodels.api as sm"
   ]
  },
  {
   "cell_type": "code",
   "execution_count": 21,
   "id": "3af4cd7c-2d26-4066-ac1e-cc5b89cef64f",
   "metadata": {},
   "outputs": [],
   "source": [
    "lm = sm.OLS(y_train, X_train)"
   ]
  },
  {
   "cell_type": "code",
   "execution_count": 23,
   "id": "81954a77-e282-462d-870d-6bf42ab5e36a",
   "metadata": {},
   "outputs": [
    {
     "data": {
      "text/html": [
       "<table class=\"simpletable\">\n",
       "<caption>OLS Regression Results</caption>\n",
       "<tr>\n",
       "  <th>Dep. Variable:</th>          <td>sales</td>      <th>  R-squared (uncentered):</th>      <td>   0.982</td> \n",
       "</tr>\n",
       "<tr>\n",
       "  <th>Model:</th>                   <td>OLS</td>       <th>  Adj. R-squared (uncentered):</th> <td>   0.982</td> \n",
       "</tr>\n",
       "<tr>\n",
       "  <th>Method:</th>             <td>Least Squares</td>  <th>  F-statistic:       </th>          <td>   2935.</td> \n",
       "</tr>\n",
       "<tr>\n",
       "  <th>Date:</th>             <td>Wed, 15 Mar 2023</td> <th>  Prob (F-statistic):</th>          <td>1.28e-137</td>\n",
       "</tr>\n",
       "<tr>\n",
       "  <th>Time:</th>                 <td>17:48:18</td>     <th>  Log-Likelihood:    </th>          <td> -336.65</td> \n",
       "</tr>\n",
       "<tr>\n",
       "  <th>No. Observations:</th>      <td>   160</td>      <th>  AIC:               </th>          <td>   679.3</td> \n",
       "</tr>\n",
       "<tr>\n",
       "  <th>Df Residuals:</th>          <td>   157</td>      <th>  BIC:               </th>          <td>   688.5</td> \n",
       "</tr>\n",
       "<tr>\n",
       "  <th>Df Model:</th>              <td>     3</td>      <th>                     </th>              <td> </td>    \n",
       "</tr>\n",
       "<tr>\n",
       "  <th>Covariance Type:</th>      <td>nonrobust</td>    <th>                     </th>              <td> </td>    \n",
       "</tr>\n",
       "</table>\n",
       "<table class=\"simpletable\">\n",
       "<tr>\n",
       "      <td></td>         <th>coef</th>     <th>std err</th>      <th>t</th>      <th>P>|t|</th>  <th>[0.025</th>    <th>0.975]</th>  \n",
       "</tr>\n",
       "<tr>\n",
       "  <th>TV</th>        <td>    0.0531</td> <td>    0.001</td> <td>   36.467</td> <td> 0.000</td> <td>    0.050</td> <td>    0.056</td>\n",
       "</tr>\n",
       "<tr>\n",
       "  <th>radio</th>     <td>    0.2188</td> <td>    0.011</td> <td>   20.138</td> <td> 0.000</td> <td>    0.197</td> <td>    0.240</td>\n",
       "</tr>\n",
       "<tr>\n",
       "  <th>newspaper</th> <td>    0.0239</td> <td>    0.008</td> <td>    3.011</td> <td> 0.003</td> <td>    0.008</td> <td>    0.040</td>\n",
       "</tr>\n",
       "</table>\n",
       "<table class=\"simpletable\">\n",
       "<tr>\n",
       "  <th>Omnibus:</th>       <td>11.405</td> <th>  Durbin-Watson:     </th> <td>   1.895</td>\n",
       "</tr>\n",
       "<tr>\n",
       "  <th>Prob(Omnibus):</th> <td> 0.003</td> <th>  Jarque-Bera (JB):  </th> <td>  15.574</td>\n",
       "</tr>\n",
       "<tr>\n",
       "  <th>Skew:</th>          <td>-0.432</td> <th>  Prob(JB):          </th> <td>0.000415</td>\n",
       "</tr>\n",
       "<tr>\n",
       "  <th>Kurtosis:</th>      <td> 4.261</td> <th>  Cond. No.          </th> <td>    13.5</td>\n",
       "</tr>\n",
       "</table><br/><br/>Notes:<br/>[1] R² is computed without centering (uncentered) since the model does not contain a constant.<br/>[2] Standard Errors assume that the covariance matrix of the errors is correctly specified."
      ],
      "text/plain": [
       "<class 'statsmodels.iolib.summary.Summary'>\n",
       "\"\"\"\n",
       "                                 OLS Regression Results                                \n",
       "=======================================================================================\n",
       "Dep. Variable:                  sales   R-squared (uncentered):                   0.982\n",
       "Model:                            OLS   Adj. R-squared (uncentered):              0.982\n",
       "Method:                 Least Squares   F-statistic:                              2935.\n",
       "Date:                Wed, 15 Mar 2023   Prob (F-statistic):                   1.28e-137\n",
       "Time:                        17:48:18   Log-Likelihood:                         -336.65\n",
       "No. Observations:                 160   AIC:                                      679.3\n",
       "Df Residuals:                     157   BIC:                                      688.5\n",
       "Df Model:                           3                                                  \n",
       "Covariance Type:            nonrobust                                                  \n",
       "==============================================================================\n",
       "                 coef    std err          t      P>|t|      [0.025      0.975]\n",
       "------------------------------------------------------------------------------\n",
       "TV             0.0531      0.001     36.467      0.000       0.050       0.056\n",
       "radio          0.2188      0.011     20.138      0.000       0.197       0.240\n",
       "newspaper      0.0239      0.008      3.011      0.003       0.008       0.040\n",
       "==============================================================================\n",
       "Omnibus:                       11.405   Durbin-Watson:                   1.895\n",
       "Prob(Omnibus):                  0.003   Jarque-Bera (JB):               15.574\n",
       "Skew:                          -0.432   Prob(JB):                     0.000415\n",
       "Kurtosis:                       4.261   Cond. No.                         13.5\n",
       "==============================================================================\n",
       "\n",
       "Notes:\n",
       "[1] R² is computed without centering (uncentered) since the model does not contain a constant.\n",
       "[2] Standard Errors assume that the covariance matrix of the errors is correctly specified.\n",
       "\"\"\""
      ]
     },
     "execution_count": 23,
     "metadata": {},
     "output_type": "execute_result"
    }
   ],
   "source": [
    "model = lm.fit()\n",
    "model.summary()"
   ]
  },
  {
   "cell_type": "markdown",
   "id": "2541789d-6eb8-41aa-af27-6645dc28d02b",
   "metadata": {},
   "source": [
    "### R Squared Modelimizin Varyans Açıklama başarısını söyler.\n",
    "### F-Statistic modelin anlamlı olup olmadığını belirtir."
   ]
  },
  {
   "cell_type": "markdown",
   "id": "a0f53238-ba5a-415f-b03d-af136fba2cf0",
   "metadata": {},
   "source": [
    "# Scikit-Learn Model"
   ]
  },
  {
   "cell_type": "code",
   "execution_count": 27,
   "id": "63593887-e2b0-4b5a-ba2a-978e10be77d9",
   "metadata": {},
   "outputs": [],
   "source": [
    "import numpy as np\n",
    "from sklearn.linear_model import LinearRegression"
   ]
  },
  {
   "cell_type": "code",
   "execution_count": 29,
   "id": "5c4e112b-aa16-44d5-900d-a21048ec5571",
   "metadata": {},
   "outputs": [],
   "source": [
    "lm = LinearRegression()\n",
    "model = lm.fit(X_train, y_train)"
   ]
  },
  {
   "cell_type": "code",
   "execution_count": 31,
   "id": "5c7efbb7-499c-477a-b3f2-0916a3ac7474",
   "metadata": {},
   "outputs": [],
   "source": [
    "sabit_katsayi = model.intercept_"
   ]
  },
  {
   "cell_type": "code",
   "execution_count": 32,
   "id": "ee4077c7-07bb-480d-a521-c154a6c29cad",
   "metadata": {},
   "outputs": [
    {
     "name": "stdout",
     "output_type": "stream",
     "text": [
      "Modelin Sabit Katsayısı: 2.979067 \n"
     ]
    }
   ],
   "source": [
    "print('Modelin Sabit Katsayısı: %.6f ' % (sabit_katsayi))"
   ]
  },
  {
   "cell_type": "code",
   "execution_count": 36,
   "id": "2215f969-0541-40a3-8e49-2e34fa258a9f",
   "metadata": {},
   "outputs": [],
   "source": [
    "b_d_k = model.coef_"
   ]
  },
  {
   "cell_type": "code",
   "execution_count": 41,
   "id": "c4d26eaf-73c2-4474-83fc-b78cb1d78822",
   "metadata": {},
   "outputs": [
    {
     "name": "stdout",
     "output_type": "stream",
     "text": [
      "Bütün Bağımsız Değişkenlerin Katsayıları: [0.04472952 0.18919505 0.00276111]\n"
     ]
    }
   ],
   "source": [
    "print(\"Bütün Bağımsız Değişkenlerin Katsayıları:\" , (b_d_k))"
   ]
  },
  {
   "cell_type": "markdown",
   "id": "50d6ed45-fd0c-48ed-a83e-a8f944a35dc8",
   "metadata": {},
   "source": [
    "### Kurduğumuz Model ile bir Tahmin İşlemi Gerçekleştirelim."
   ]
  },
  {
   "cell_type": "markdown",
   "id": "c6f34c4c-c1cb-4e79-87b9-921227142f2f",
   "metadata": {},
   "source": [
    "#### Model Denklemi:\n",
    "####    Sales = 2.97 + TV0.04 +; radio0.018 + newspaper*0.002\n",
    "### 30 birim TV harcaması, 10 birim radio harcaması ve 40 birim de gazete harcaması olduğunda satışların tahmini değeri ne olur?"
   ]
  },
  {
   "cell_type": "code",
   "execution_count": 48,
   "id": "426b1a27-a303-4a60-99d8-d0eebc2af55f",
   "metadata": {},
   "outputs": [],
   "source": [
    "yeni_veri = [[30],[10],[40]]\n",
    "yeni_veri = pd.DataFrame(yeni_veri).T"
   ]
  },
  {
   "cell_type": "code",
   "execution_count": 49,
   "id": "a00d09e5-ff77-4a89-8214-84ff75831cf5",
   "metadata": {},
   "outputs": [
    {
     "data": {
      "text/html": [
       "<div>\n",
       "<style scoped>\n",
       "    .dataframe tbody tr th:only-of-type {\n",
       "        vertical-align: middle;\n",
       "    }\n",
       "\n",
       "    .dataframe tbody tr th {\n",
       "        vertical-align: top;\n",
       "    }\n",
       "\n",
       "    .dataframe thead th {\n",
       "        text-align: right;\n",
       "    }\n",
       "</style>\n",
       "<table border=\"1\" class=\"dataframe\">\n",
       "  <thead>\n",
       "    <tr style=\"text-align: right;\">\n",
       "      <th></th>\n",
       "      <th>0</th>\n",
       "      <th>1</th>\n",
       "      <th>2</th>\n",
       "    </tr>\n",
       "  </thead>\n",
       "  <tbody>\n",
       "    <tr>\n",
       "      <th>0</th>\n",
       "      <td>30</td>\n",
       "      <td>10</td>\n",
       "      <td>40</td>\n",
       "    </tr>\n",
       "  </tbody>\n",
       "</table>\n",
       "</div>"
      ],
      "text/plain": [
       "    0   1   2\n",
       "0  30  10  40"
      ]
     },
     "execution_count": 49,
     "metadata": {},
     "output_type": "execute_result"
    }
   ],
   "source": [
    "yeni_veri"
   ]
  },
  {
   "cell_type": "code",
   "execution_count": 51,
   "id": "dd4d5549-c5bf-4b4f-b11a-dfd1ae08fa58",
   "metadata": {},
   "outputs": [],
   "source": [
    "import warnings\n",
    "warnings.filterwarnings('ignore')"
   ]
  },
  {
   "cell_type": "code",
   "execution_count": 56,
   "id": "1e6cdd52-bae0-4ecd-8f65-617fdeddcd79",
   "metadata": {},
   "outputs": [],
   "source": [
    "olasi_ihtimal = model.predict(yeni_veri)"
   ]
  },
  {
   "cell_type": "code",
   "execution_count": 57,
   "id": "a8213663-a8f0-4620-b6e5-a4c9fa6c69f4",
   "metadata": {},
   "outputs": [
    {
     "name": "stdout",
     "output_type": "stream",
     "text": [
      "Olası İhtimal Dahilinde Satışların Tahmini Değeri: 6.32335 \n"
     ]
    }
   ],
   "source": [
    "print('Olası İhtimal Dahilinde Satışların Tahmini Değeri: %.5f ' % (olasi_ihtimal))"
   ]
  },
  {
   "cell_type": "markdown",
   "id": "9bd9d293-953b-43a5-8893-ea72161cc5c3",
   "metadata": {},
   "source": [
    "### Modelimizin Tahmin Değerini Kontrol Edelim."
   ]
  },
  {
   "cell_type": "code",
   "execution_count": 59,
   "id": "e6e7b5e1-b4dc-40ed-a71e-3a36b917114e",
   "metadata": {},
   "outputs": [],
   "source": [
    "from sklearn.metrics import mean_squared_error"
   ]
  },
  {
   "cell_type": "code",
   "execution_count": 63,
   "id": "f2776665-2546-4e47-8b26-b0fac27eb0ad",
   "metadata": {},
   "outputs": [],
   "source": [
    "rmse = np.sqrt(mean_squared_error(y_train, model.predict(X_train)))\n",
    "#model.predict(X_train) fonksiyonu bağımsız bir değişken olup model tahmin sayesinde tahmin edilen y değerlerini oluşturmamızı sağlar."
   ]
  },
  {
   "cell_type": "code",
   "execution_count": 64,
   "id": "9d52bd54-8e7f-4382-8064-8304f0f37edf",
   "metadata": {},
   "outputs": [
    {
     "name": "stdout",
     "output_type": "stream",
     "text": [
      "Eğitim Hatasının Değeri: 1.6447277656 \n"
     ]
    }
   ],
   "source": [
    "print('Eğitim Hatasının Değeri: %.10f ' % (rmse))"
   ]
  },
  {
   "cell_type": "markdown",
   "id": "7e38420e-3a4d-48e0-9994-b3618f491660",
   "metadata": {},
   "source": [
    "### Yukarıda Eğitim Hatamızı hesapladık şimdi ise Test Hatamızı Hesaplayalım."
   ]
  },
  {
   "cell_type": "code",
   "execution_count": 66,
   "id": "92873c64-b951-4df2-901b-2e2d17fb7717",
   "metadata": {},
   "outputs": [],
   "source": [
    "rmse2 = np.sqrt(mean_squared_error(y_test, model.predict(X_test)))"
   ]
  },
  {
   "cell_type": "code",
   "execution_count": 67,
   "id": "340ec248-90a1-4ea0-8b46-b89d6dac0475",
   "metadata": {},
   "outputs": [
    {
     "name": "stdout",
     "output_type": "stream",
     "text": [
      "Test Hatasının Değeri: 1.7815996615 \n"
     ]
    }
   ],
   "source": [
    "print('Test Hatasının Değeri: %.10f ' % (rmse2))"
   ]
  },
  {
   "cell_type": "markdown",
   "id": "f0279b9b-bf0f-4d4f-88a9-c84e7fb68e98",
   "metadata": {},
   "source": [
    "# Model Tuning / Model Doğrulama İşlemleri"
   ]
  },
  {
   "cell_type": "markdown",
   "id": "1773d47a-10e9-4da0-a12c-9506d7b5f0c9",
   "metadata": {},
   "source": [
    "#### 11.Satırdaki olan bu kodların içiinde olan random_state argümanı her değiştiğinde yeni değerler gelir.\n",
    "#### Bunun önüne geçebilmek yani modelimiz için en uygun random_state argümanına vereceğimiz değişkeni seçmek için,\n",
    "#### Cross Validation Score fonksiyonunu kullanabiliriz.\n",
    "\n",
    "#### X= df.drop(\"sales\" , axis = 1)\n",
    "#### y = df[\"sales\"]\n",
    "\n",
    "#### X_train, X_test , y_train, y_test = train_test_split(X, y, test_size = 0.20, random_state = 42)\n"
   ]
  },
  {
   "cell_type": "code",
   "execution_count": 74,
   "id": "b76c96bd-d5d9-4467-b15a-050a342b8fb7",
   "metadata": {},
   "outputs": [],
   "source": [
    "#cross validasyon ile modelimizde random_state'i çaprazlayarak 10 farklı r**2 değeri oluşturuyoruz ve bunların ortalamasını alarak,\n",
    "#bize en uygun valide edilmiş, doğrulanmış değeri seçiyoruz.\n",
    "d_v_d = cross_val_score(model, X, y, cv = 10, scoring = \"r2\").mean()"
   ]
  },
  {
   "cell_type": "code",
   "execution_count": 75,
   "id": "f26a6ae9-d5a3-43e9-8850-588c1d841ba3",
   "metadata": {},
   "outputs": [
    {
     "name": "stdout",
     "output_type": "stream",
     "text": [
      "Modelimizin Doğrulanmış (Valide Edilmiş) Değeri: 0.8853562238 \n"
     ]
    }
   ],
   "source": [
    "print('Modelimizin Doğrulanmış (Valide Edilmiş) Değeri: %.10f ' % (d_v_d))"
   ]
  },
  {
   "cell_type": "markdown",
   "id": "fe1573b8-314b-4aad-83d8-2842fadfe19a",
   "metadata": {},
   "source": [
    "### Bu işlemi bütün veri seti için yaptık şimdi ise train ve test setlerimize de uygulayalım."
   ]
  },
  {
   "cell_type": "code",
   "execution_count": 83,
   "id": "b4519e00-24bb-4791-8949-b46d3e595b52",
   "metadata": {},
   "outputs": [],
   "source": [
    "d_v_d2 = cross_val_score(model, X_train, y_train, cv = 10, scoring = \"r2\").mean()"
   ]
  },
  {
   "cell_type": "code",
   "execution_count": 84,
   "id": "29705c7e-0c91-42cb-8a0b-0d08d1102d21",
   "metadata": {},
   "outputs": [
    {
     "name": "stdout",
     "output_type": "stream",
     "text": [
      "Modelimizin Eğitim Verileri İçindeki Doğrulanmış Validasyon Değeri: 0.7913548597 \n"
     ]
    }
   ],
   "source": [
    "print('Modelimizin Eğitim Verileri İçindeki Doğrulanmış Validasyon Değeri: %.10f ' % (d_v_d2))"
   ]
  },
  {
   "cell_type": "code",
   "execution_count": 94,
   "id": "6833a5ef-123c-4da3-a9bf-eca3f83bb77e",
   "metadata": {},
   "outputs": [],
   "source": [
    "train_val = np.sqrt(-cross_val_score(model,\n",
    "                X_train, \n",
    "                y_train , \n",
    "                cv = 10 ,\n",
    "                scoring = \"neg_mean_squared_error\")).mean()"
   ]
  },
  {
   "cell_type": "code",
   "execution_count": 96,
   "id": "734104eb-cb26-4ac3-8697-2132eca0a4f2",
   "metadata": {},
   "outputs": [
    {
     "name": "stdout",
     "output_type": "stream",
     "text": [
      "Modelimizin Eğitim Verileri İçindeki Doğrulanmış R**2 Validasyon Değeri: 1.6513523730 \n"
     ]
    }
   ],
   "source": [
    "print('Modelimizin Eğitim Verileri İçindeki Doğrulanmış R**2 Validasyon Değeri: %.10f ' % (train_val))"
   ]
  },
  {
   "cell_type": "markdown",
   "id": "c15b489c-cefe-454a-889c-530d5f518864",
   "metadata": {},
   "source": [
    "### Yukarıda Eğitim Hatalarımızı Valide Ederek en güvenilir sonuca ulaşmış olduk."
   ]
  },
  {
   "cell_type": "markdown",
   "id": "81f45988-078c-4fdd-85a1-5476c690aff2",
   "metadata": {},
   "source": [
    "### Aynı İşlemleri Test Seti Üzerinde de Gözlemleyelim"
   ]
  },
  {
   "cell_type": "code",
   "execution_count": 91,
   "id": "150c57e8-8fb4-46ff-a2c3-f567685ad5fe",
   "metadata": {},
   "outputs": [],
   "source": [
    "d_v_d3 = cross_val_score(model, X_test, y_test, cv = 10 , scoring = \"r2\").mean()"
   ]
  },
  {
   "cell_type": "code",
   "execution_count": 92,
   "id": "b74f4fc4-aed1-469b-a203-de783b5df2be",
   "metadata": {},
   "outputs": [
    {
     "name": "stdout",
     "output_type": "stream",
     "text": [
      "Modelimizin Test Verileri İçindeki Doğrulanmış Validasyon Değeri: 0.7007204329 \n"
     ]
    }
   ],
   "source": [
    "print('Modelimizin Test Verileri İçindeki Doğrulanmış Validasyon Değeri: %.10f ' % (d_v_d3))"
   ]
  },
  {
   "cell_type": "code",
   "execution_count": 97,
   "id": "a82ee9df-d0d5-415d-8b46-c220b113ce65",
   "metadata": {},
   "outputs": [],
   "source": [
    "test_val = np.sqrt(-cross_val_score(model,\n",
    "                X_test, \n",
    "                y_test , \n",
    "                cv = 10 ,\n",
    "                scoring = \"neg_mean_squared_error\")).mean()"
   ]
  },
  {
   "cell_type": "code",
   "execution_count": 98,
   "id": "902846be-09f4-4219-b986-8178b1e4ba81",
   "metadata": {},
   "outputs": [
    {
     "name": "stdout",
     "output_type": "stream",
     "text": [
      "Modelimizin Test Verileri İçindeki Doğrulanmış R**2 Validasyon Değeri: 1.8462778824 \n"
     ]
    }
   ],
   "source": [
    "print('Modelimizin Test Verileri İçindeki Doğrulanmış R**2 Validasyon Değeri: %.10f ' % (test_val))"
   ]
  },
  {
   "cell_type": "code",
   "execution_count": null,
   "id": "7e399066-fc0f-4a08-b85c-0dfa81a8f357",
   "metadata": {},
   "outputs": [],
   "source": []
  }
 ],
 "metadata": {
  "kernelspec": {
   "display_name": "Python 3 (ipykernel)",
   "language": "python",
   "name": "python3"
  },
  "language_info": {
   "codemirror_mode": {
    "name": "ipython",
    "version": 3
   },
   "file_extension": ".py",
   "mimetype": "text/x-python",
   "name": "python",
   "nbconvert_exporter": "python",
   "pygments_lexer": "ipython3",
   "version": "3.9.12"
  }
 },
 "nbformat": 4,
 "nbformat_minor": 5
}
